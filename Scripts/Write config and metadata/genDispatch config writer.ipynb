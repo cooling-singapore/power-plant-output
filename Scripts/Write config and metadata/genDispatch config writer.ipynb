{
 "cells": [
  {
   "cell_type": "code",
   "execution_count": 1,
   "metadata": {},
   "outputs": [],
   "source": [
    "import configparser\n",
    "import getpass\n",
    "from os import path\n",
    "import datetime as dttm\n",
    "\n",
    "#PathProj =     **Enter the project directory here**\n",
    "PathIR = path.join(PathProj, 'Inputs and resources')\n",
    "fp_config = path.join(PathIR, 'config.ini')"
   ]
  },
  {
   "cell_type": "markdown",
   "metadata": {},
   "source": [
    "**Recommendation**<br>\n",
    "During dev, just define as many sections as the need arise. In the future, restructure it if it makes sense and is worth it."
   ]
  },
  {
   "cell_type": "markdown",
   "metadata": {},
   "source": [
    "<h4><i><font color=#707B7C>Initialize ConfigParse and define sections</font></i></h4>"
   ]
  },
  {
   "cell_type": "code",
   "execution_count": 2,
   "metadata": {},
   "outputs": [],
   "source": [
    "config = configparser.ConfigParser()\n",
    "# Remember that paths and keys are case INsensitive\n",
    "config.add_section('system')\n",
    "config.add_section('log')\n",
    "config.add_section('paths')\n",
    "config.add_section('data import settings')\n",
    "config.add_section('power plant database')\n",
    "config.add_section('market settings')"
   ]
  },
  {
   "cell_type": "markdown",
   "metadata": {},
   "source": [
    "<h3><font color=#117A65>[<i>system</i>]</font></h3>"
   ]
  },
  {
   "cell_type": "code",
   "execution_count": 3,
   "metadata": {},
   "outputs": [],
   "source": [
    "setkey = config['system']\n",
    "# -------------------------------------------------------------------------------------------\n",
    "setkey['debug'] = 'True'\n",
    "setkey['config_last_update'] = \"config updated: {}\".format(dttm.datetime.now().strftime(\"%Y %b %d\"))"
   ]
  },
  {
   "cell_type": "markdown",
   "metadata": {},
   "source": [
    "<h3><font color=#117A65>[<i>log</i>]</font></h3>"
   ]
  },
  {
   "cell_type": "code",
   "execution_count": 4,
   "metadata": {},
   "outputs": [],
   "source": [
    "setkey = config['log']\n",
    "# -------------------------------------------------------------------------------------------\n",
    "setkey['file_name'] = 'genDispatch.log'\n",
    "\n",
    "setkey['level'] = 'logging.DEBUG'\n",
    "\n",
    "#setkey['open_upon_exception'] = 'True'    # -- no longer implemented"
   ]
  },
  {
   "cell_type": "markdown",
   "metadata": {},
   "source": [
    "<h3><font color=#117A65>[<i>paths</i>]</font></h3>\n",
    "<font color=#717D7E>This has to be edited when the project is packaged and exported.</font>"
   ]
  },
  {
   "cell_type": "code",
   "execution_count": 5,
   "metadata": {},
   "outputs": [],
   "source": [
    "setkey = config['paths']\n",
    "# -------------------------------------------------------------------------------------------\n",
    "# Update 19.11.2019 -- all relative paths (to root). Additionally, relative to PathIR\n",
    "setkey['fp_powerplant_database'] = 'SG power plant database v3.xlsx'\n",
    "setkey['fp_metadata'] = 'metadata.ini'\n"
   ]
  },
  {
   "cell_type": "markdown",
   "metadata": {},
   "source": [
    "<h3><font color=#117A65>[<i>data import settings</i>]</font></h3>\n",
    "Initialize dh.Metadata.opt to these values at the beginning of <b>_subinit3_readinputs</b>()"
   ]
  },
  {
   "cell_type": "code",
   "execution_count": 6,
   "metadata": {},
   "outputs": [],
   "source": [
    "setkey = config['data import settings']\n",
    "# ---------------------------------------------------------------------------------------------------\n",
    "# Metadata options (no need to specify which of the keys in data import settings are in Metadata.opt)\n",
    "setkey['warn_no_units']  = 'True'\n",
    "setkey['allow_timegaps'] = 'False'   # Necessary to ensure that the get common period algo will have data in all of the common period\n",
    "setkey['allow_subres']   = 'True'    # nominate to change\n",
    "setkey['warn_subres']    = 'False'\n",
    "setkey['subres_th']      = '0.1'\n",
    "setkey['allow_nan']      = 'False'\n",
    "\n",
    "# UnitHandler of Metadata (in dir Inputs and resources)\n",
    "setkey['pint_unitdefn'] = 'Pint energy defn.txt'"
   ]
  },
  {
   "cell_type": "markdown",
   "metadata": {},
   "source": [
    "<h3><font color=#117A65>[<i>power plant database</i>]</font></h3>"
   ]
  },
  {
   "cell_type": "code",
   "execution_count": 7,
   "metadata": {},
   "outputs": [],
   "source": [
    "setkey = config['power plant database']\n",
    "# -------------------------------------------------------------------------------------------\n",
    "setkey['master'] = 'Stations 2016'          # Sheet names in the Excel database file\n",
    "setkey['params'] = 'Plant Parameters'\n",
    "setkey['seeds']  = 'Random Seeds'"
   ]
  },
  {
   "cell_type": "markdown",
   "metadata": {},
   "source": [
    "<h3><font color=#117A65>[<i>market settings</i>]</font></h3>"
   ]
  },
  {
   "cell_type": "code",
   "execution_count": 8,
   "metadata": {},
   "outputs": [],
   "source": [
    "setkey = config['market settings']\n",
    "# -------------------------------------------------------------------------------------------\n",
    "setkey['currency'] = 'SGD'           # key in metadata['forex']\n",
    "setkey['period_duration'] = '0.5H'   # 'xH' where x represents a multiple of one hour.\n",
    "\n",
    "# GenUnit Settings\n",
    "setkey['minbid_size'] = '1'          # Min MW bid size\n",
    "setkey['minsteps'] = '1'             # Min no of bids per GenUnit-period\n",
    "setkey['maxsteps'] = '10'            # Max no of bids per GenUnit-period\n",
    "setkey['bid_precision'] = '1'        # Signifcant decimal places in the GenUnit bids\n",
    "setkey['currency_precision'] = '2'   # Signifcant decimal places in all prices (bids, market prices, etc.)"
   ]
  },
  {
   "cell_type": "markdown",
   "metadata": {},
   "source": [
    "<h4><i><font color=#707B7C>Write config.ini</font></i></h4>"
   ]
  },
  {
   "cell_type": "code",
   "execution_count": 9,
   "metadata": {},
   "outputs": [],
   "source": [
    "with open(fp_config, 'w') as configfile:\n",
    "    config.write(configfile)"
   ]
  }
 ],
 "metadata": {
  "kernelspec": {
   "display_name": "Python 3",
   "language": "python",
   "name": "python3"
  },
  "language_info": {
   "codemirror_mode": {
    "name": "ipython",
    "version": 3
   },
   "file_extension": ".py",
   "mimetype": "text/x-python",
   "name": "python",
   "nbconvert_exporter": "python",
   "pygments_lexer": "ipython3",
   "version": "3.7.4"
  }
 },
 "nbformat": 4,
 "nbformat_minor": 2
}
