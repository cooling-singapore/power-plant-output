{
 "cells": [
  {
   "cell_type": "markdown",
   "metadata": {},
   "source": [
    "Can be reset and run all.\n",
    "<br><br>\n",
    "As the file contains the instructions to initialize DataHandler.Metadata, the key: value pairs have this format: <br>\n",
    "&nbsp;&nbsp;&nbsp;<b>fundamentals key</b> : <font color=#27AE60>str of valid dictionary of parameters to pass to DataHandler.Metadata()</font>\n",
    "<br><br>\n",
    "This can then be used as: <br>\n",
    "&nbsp;&nbsp;&nbsp;mydata = <b>eval</b>(\"dh.Metadata(silent=True, **{prms})\".<b>format</b>(prms=value))<br>\n",
    "\n",
    "<br>\n",
    "You can have uppercase letters in the keys, but they would be stored in lower case (.ini is case insensitive)<br>\n",
    "<a id='TopCell'></a>\n",
    "<br><br>\n",
    "<b>SECTIONS</b>\n",
    "<ol>\n",
    "  <li><a href='#fuels'>Fuels</a></li>\n",
    "  <li><a href='#demand'>Demand</a></li>\n",
    "  <li><a href='#forex'>Forex</a></li>\n",
    "  <li><a href='#efficiency curves'>Efficiency Curves</a></li>\n",
    "  <li><a href='#constants'>Constants</a></li>\n",
    "    <li><a href='#others'>Others</a></li>\n",
    "</ol>"
   ]
  },
  {
   "cell_type": "code",
   "execution_count": 1,
   "metadata": {},
   "outputs": [],
   "source": [
    "import configparser\n",
    "from os import path\n",
    "PathIR  = # *** put the 'Inputs and resources' path here ***\n",
    "fp_md = path.join(PathIR, 'metadata.ini')"
   ]
  },
  {
   "cell_type": "markdown",
   "metadata": {},
   "source": [
    "<h4><i><font color=#707B7C>Initialize ConfigParse and define sections</font></i></h4>"
   ]
  },
  {
   "cell_type": "code",
   "execution_count": 2,
   "metadata": {},
   "outputs": [],
   "source": [
    "metadata = configparser.ConfigParser()\n",
    "# Remember that paths and keys are case INsensitive\n",
    "metadata.add_section('fuels')\n",
    "metadata.add_section('others') # WtE sched, old fuels\n",
    "metadata.add_section('demand')\n",
    "metadata.add_section('forex')\n",
    "metadata.add_section('efficiency curves')\n",
    "metadata.add_section('constants')"
   ]
  },
  {
   "cell_type": "markdown",
   "metadata": {},
   "source": [
    "<a id='fuels'></a>\n",
    "<div align=\"right\">\n",
    "<a href='#TopCell'>Back to Home</a>\n",
    "</div>\n",
    "<h3><i><font color=#117A65>FUELS</font></i></h3>\n",
    "Currently set to import dummy data.<br>\n",
    "<i>No max time lag for coal</i>"
   ]
  },
  {
   "cell_type": "code",
   "execution_count": 3,
   "metadata": {},
   "outputs": [],
   "source": [
    "setkey = metadata['fuels']"
   ]
  },
  {
   "cell_type": "markdown",
   "metadata": {},
   "source": [
    "**2nd generation**"
   ]
  },
  {
   "cell_type": "code",
   "execution_count": 4,
   "metadata": {},
   "outputs": [],
   "source": [
    "setkey['PNG (HH)'] = \"\"\"\n",
    "    defn_short='Henry Hub 2015-2016 spot prices',\n",
    "    defn_full=\"Henry Hub natural gas daily spot price in 2015-2016. Data as provided by EIA/Thomson Reuters.\",\n",
    "    dstruct='time series',\n",
    "    units='USD/MMBtu',\n",
    "    filename=\"Henry Hub daily '15-'16.csv\",\n",
    "    max_time_lag='4d',\n",
    "    more_md={'url':'https://www.eia.gov/dnav/ng/hist/rngwhhdD.htm'},\n",
    "    index_col=0, \n",
    "    squeeze=True,\n",
    "    parse_dates=True,\n",
    "\"\"\""
   ]
  },
  {
   "cell_type": "code",
   "execution_count": 5,
   "metadata": {},
   "outputs": [],
   "source": [
    "setkey['LNG (JKM)'] = \"\"\"\n",
    "    defn_short='World Bank JKM LNG',\n",
    "    defn_full=\"Japanese-Korea Marker LNG monthly average import price. From the World Bank commodities price data.\",\n",
    "    dstruct='time series',\n",
    "    units='USD/MMBtu',\n",
    "    filename=\"WB JKM LNG (01.15-11.19).pkl\",\n",
    "    max_time_lag='31d',\n",
    "    more_md={'url':'https://www.worldbank.org/en/research/commodity-markets#1'},\n",
    "\"\"\""
   ]
  },
  {
   "cell_type": "code",
   "execution_count": 6,
   "metadata": {},
   "outputs": [],
   "source": [
    "setkey['Coal (AU)'] = \"\"\"\n",
    "    defn_short='World Bank Australian coal',\n",
    "    defn_full='''Australian coal from Newcastle monthly average spot price. HHV 6000 kcal/kg (25.1208 MJ/kg).\n",
    "\n",
    "    World Bank specification:\n",
    "    Coal (Australia), from January 2015, port thermal, fo.b. Newcastle, 6000 kcal/kg spot price. \n",
    "    ''',\n",
    "    dstruct='time series',\n",
    "    units='USD/ton',\n",
    "    filename=\"WB Coal, Australia (01.15-11.19).pkl\",\n",
    "    max_time_lag='31d',\n",
    "    more_md={'url':'https://www.worldbank.org/en/research/commodity-markets#1',\n",
    "            'HHV': '25.1208 MJ/kg',},\n",
    "\"\"\""
   ]
  },
  {
   "cell_type": "code",
   "execution_count": 7,
   "metadata": {},
   "outputs": [],
   "source": [
    "setkey['Crude (Brent)'] = \"\"\"\n",
    "    defn_short='World Bank crude (Brent)',\n",
    "    defn_full=\"Crude oil - UK Brent (38` API) - monthly average spot price\",\n",
    "    dstruct='time series',\n",
    "    units='USD/bbl',\n",
    "    filename=\"WB Crude, Brent (01.15-11.19).pkl\",\n",
    "    max_time_lag='31d',\n",
    "    more_md={\n",
    "        'url':'https://www.worldbank.org/en/research/commodity-markets#1',\n",
    "        'density': '832.2956 kg/m^3',\n",
    "    },\n",
    "\"\"\""
   ]
  },
  {
   "cell_type": "code",
   "execution_count": 8,
   "metadata": {},
   "outputs": [],
   "source": [
    "setkey['Crude (WTI)'] = \"\"\"\n",
    "    defn_short='World Bank crude (WTI)',\n",
    "    defn_full=\"Crude oil - West Texas Intermediate (40` API) - monthly average spot price\",\n",
    "    dstruct='time series',\n",
    "    units='USD/bbl',\n",
    "    filename=\"WB Crude, WTI (01.15-11.19).pkl\",\n",
    "    max_time_lag='31d',\n",
    "    more_md={\n",
    "        'url':'https://www.worldbank.org/en/research/commodity-markets#1',\n",
    "        'density': '822.6247 kg/m^3',\n",
    "    },\n",
    "\"\"\""
   ]
  },
  {
   "cell_type": "code",
   "execution_count": 9,
   "metadata": {},
   "outputs": [],
   "source": [
    "setkey['Crude (Dubai)'] = \"\"\"\n",
    "    defn_short='World Bank crude (Dubai)',\n",
    "    defn_full=\"Crude oil - Dubai Fateh (32` API) - monthly average spot price\",\n",
    "    dstruct='time series',\n",
    "    units='USD/bbl',\n",
    "    filename=\"WB Crude, Dubai (01.15-11.19).pkl\",\n",
    "    max_time_lag='31d',\n",
    "    more_md={\n",
    "        'url':'https://www.worldbank.org/en/research/commodity-markets#1',\n",
    "        'density': '862.804 kg/m^3',\n",
    "    },\n",
    "\"\"\""
   ]
  },
  {
   "cell_type": "markdown",
   "metadata": {},
   "source": [
    "<a id='demand'></a>\n",
    "<div align=\"right\">\n",
    "<a href='#TopCell'>Back to Home</a>\n",
    "</div>\n",
    "<h3><i><font color=#117A65>DEMAND</font></i></h3>\n",
    "<i>No max time lag</i>"
   ]
  },
  {
   "cell_type": "code",
   "execution_count": 10,
   "metadata": {},
   "outputs": [],
   "source": [
    "setkey = metadata['demand']"
   ]
  },
  {
   "cell_type": "code",
   "execution_count": 11,
   "metadata": {},
   "outputs": [],
   "source": [
    "# time series --> time table\n",
    "setkey['system_electricity_MW'] = \"\"\"\n",
    "    defn_short = \"System demand (with scenarios)\",\n",
    "    defn_full  = '''Adapted NEMS demand forecast in 2016.\n",
    "    \n",
    "    Scenarios:\n",
    "        'scaled II'                          base scenario, original forecast scaled to get the same ex-post monthly consumption\n",
    "        'Original Forecast'                  Original forecast\n",
    "        'Full Road Vehicle Electrification'  Jordan's full electrification of road transport in Sg scenario (via CityMOS)\n",
    "    ''',\n",
    "    dstruct='time series',\n",
    "    units='MW',\n",
    "    filename='System demand 2016 MW.pkl',\n",
    "    more_md={'url': 'https://www.emcsg.com/MarketData/PriceInformation'},\n",
    "\"\"\""
   ]
  },
  {
   "cell_type": "markdown",
   "metadata": {},
   "source": [
    "<a id='forex'></a>\n",
    "<div align=\"right\">\n",
    "<a href='#TopCell'>Back to Home</a>\n",
    "</div>\n",
    "<h3><i><font color=#117A65>FOREX</font></i></h3>\n",
    "<i>No max time lag</i>"
   ]
  },
  {
   "cell_type": "code",
   "execution_count": 12,
   "metadata": {},
   "outputs": [],
   "source": [
    "setkey = metadata['forex']"
   ]
  },
  {
   "cell_type": "code",
   "execution_count": 13,
   "metadata": {},
   "outputs": [],
   "source": [
    "setkey['SGD'] = \"\"\"\n",
    "    defn_short = \"Weekly SGD per USD 2016\",\n",
    "    defn_full  = \"Obtained from the daily SGD/USD data from the Monetary Authority of Singapore. The weekly value is calculated as an average of the period. The timestamps are on the period ends, which is on a Friday.\",\n",
    "    dstruct='time series',\n",
    "    units='SGD/USD',\n",
    "    filename='SGDperUSD_weekly_ave.pkl',\n",
    "    more_md={'url': 'https://secure.mas.gov.sg/msb/ExchangeRates.aspx'},\n",
    "    max_time_lag='7d',\n",
    "\"\"\""
   ]
  },
  {
   "cell_type": "markdown",
   "metadata": {},
   "source": [
    "<a id='efficiency curves'></a>\n",
    "<div align=\"right\">\n",
    "<a href='#TopCell'>Back to Home</a>\n",
    "</div>\n",
    "<h3><i><font color=#117A65>EFFICIENCY CURVES</font></i></h3>"
   ]
  },
  {
   "cell_type": "code",
   "execution_count": 14,
   "metadata": {},
   "outputs": [],
   "source": [
    "setkey = metadata['efficiency curves']"
   ]
  },
  {
   "cell_type": "code",
   "execution_count": 15,
   "metadata": {},
   "outputs": [],
   "source": [
    "# 1-2) Whole-system_cost_of_variable_renewables_in_future_GB_electricity_system\n",
    "setkey['CCGT Best'.lower()] = \"\"\"\n",
    "    defn_short = \"CCGT part load efficiency curve, best values\",\n",
    "    defn_full  = \"CCGT part load efficiency, best (highest) values. Data obtained from UK study in Nov 2016, headed by researchers \"\n",
    "                 \"in the Imperial College London along with Innogy and Scottish Power.\",\n",
    "    dstruct='table',\n",
    "    units={\n",
    "            'Load pu': 'pu',\n",
    "            'Part load efficiency': '',\n",
    "          },\n",
    "    filename='Part load efficiency, CCGT Best.pkl',\n",
    "    more_md = {\n",
    "        'URL': \"http://energysuperstore.org/esrn/wp-content/uploads/2016/11/Whole-system-cost-of-variable-renewables-in-future-GB-electricity-system-Imperial_Nov2016.pdf\",\n",
    "        'Section': \"7.4\",                \n",
    "    },\n",
    "\"\"\"\n",
    "\n",
    "setkey['CCGT Typical'.lower()] = \"\"\"\n",
    "    defn_short = \"CCGT part load efficiency curve, typical values\",\n",
    "    defn_full  = \"CCGT part load efficiency, typical values. Data obtained from UK study in Nov 2016, headed by researchers \"\n",
    "                 \"in the Imperial College London along with Innogy and Scottish Power.\",\n",
    "    dstruct='table',\n",
    "    units={\n",
    "            'Load pu': 'pu',\n",
    "            'Part load efficiency': '',\n",
    "          },\n",
    "    filename='Part load efficiency, CCGT Typical.pkl',\n",
    "    more_md = {\n",
    "        'URL': \"http://energysuperstore.org/esrn/wp-content/uploads/2016/11/Whole-system-cost-of-variable-renewables-in-future-GB-electricity-system-Imperial_Nov2016.pdf\",\n",
    "        'Section': \"7.4\",                \n",
    "    },\n",
    "\"\"\""
   ]
  },
  {
   "cell_type": "code",
   "execution_count": 16,
   "metadata": {},
   "outputs": [],
   "source": [
    "# 3-7) EMA CCGT turbines from vesting params\n",
    "# Prepare these dict literal strings beforehand, because it would conflict with .format()\n",
    "# ---- possible fix: https://stackoverflow.com/questions/5466451/how-can-i-print-literal-curly-brace-characters-in-python-string-and-also-use-fo\n",
    "\n",
    "# Used tiny URL because the '%' in the EMA links were causing trouble in the string interpretation\n",
    "more_md = \"\"\"{\n",
    "        'URL': \"https://tinyurl.com/y6jk5uy4\",\n",
    "        'Section': '2.6',\n",
    "        'Figure': '7',\n",
    "    }\"\"\"\n",
    "\n",
    "units=\"\"\"{\n",
    "                'Load pu': 'pu',\n",
    "                'Part load efficiency': '',\n",
    "              }\"\"\"\n",
    "\n",
    "\n",
    "for turbine in ('GT26', '4000F', '701F', '9F.05'):\n",
    "    setkey['CCGT {}'.format(turbine).lower()] = \"\"\"\n",
    "        defn_short = \"CCGT part load efficiency curve, EMA {turbine} turbine\",\n",
    "        \n",
    "        defn_full  = \"EMA part load heat rate curves (Fig. 7 of Review of the Vesting Contract Technical Parameters for the period 1 January 2019 to 31 December 2020). \"\n",
    "                     \"Plant simulated in GTPro by PA Consulting Group.\",\n",
    "        \n",
    "        dstruct='table',\n",
    "        units={units},\n",
    "        \n",
    "        filename = 'Part load efficiency, CCGT {turbine}.pkl',\n",
    "        \n",
    "        more_md= {more_md},\n",
    "    \"\"\".format(turbine=turbine, units=units, more_md=more_md)"
   ]
  },
  {
   "cell_type": "code",
   "execution_count": 17,
   "metadata": {},
   "outputs": [],
   "source": [
    "setkey['ST sample'] = \"\"\"\n",
    "    defn_short = \"ST efficiency curve sample\",\n",
    "    dstruct='table',\n",
    "    units={\n",
    "            'Load pu': 'pu',\n",
    "            'Part load efficiency': '',\n",
    "          },\n",
    "    filename='Part load efficiency, ST sample.pkl',\n",
    "    more_md = {\n",
    "        'URL': \"https://dergipark.org.tr/en/download/article-file/284400\",\n",
    "        'Figure': \"7\",                \n",
    "    },\n",
    "\"\"\""
   ]
  },
  {
   "cell_type": "markdown",
   "metadata": {},
   "source": [
    "<a id='constants'></a>\n",
    "<div align=\"right\">\n",
    "<a href='#TopCell'>Back to Home</a>\n",
    "</div>\n",
    "<h3><i><font color=#117A65>CONSTANTS</font></i></h3>"
   ]
  },
  {
   "cell_type": "code",
   "execution_count": 18,
   "metadata": {},
   "outputs": [],
   "source": [
    "setkey = metadata['constants']"
   ]
  },
  {
   "cell_type": "code",
   "execution_count": 19,
   "metadata": {},
   "outputs": [],
   "source": [
    "# HHV_table\n",
    "urls = {\n",
    "    'CoalMarketingIntl': 'http://www.coalmarketinginfo.com/coal-basics/',\n",
    "    'H2Tools': 'https://h2tools.org/hyarc/calculator-tools/lower-and-higher-heating-values-fuels',\n",
    "    'EIA': 'https://www.eia.gov/totalenergy/data/monthly/pdf/historical/msw.pdf',\n",
    "    'WorldNuclearAssociation': 'https://www.world-nuclear.org/information-library/facts-and-figures/heat-values-of-various-fuels.aspx',\n",
    "    'WorldBank': 'https://www.worldbank.org/en/research/commodity-markets',\n",
    "}\n",
    "\n",
    "longdefn = \"\"\"Table of Higher Heating Values, in MJ/kg-wet (with moisture levels *prior* to combustion). If the source provided a range, get the middle value.\n",
    "    \n",
    "    Coal    - [1], an Australian market provider (likely as-received basis)\n",
    "    HSFO    - [2], as 'residual oil' \n",
    "    Crude   - [2]\n",
    "    Diesel  - [2], conventional US\n",
    "    Waste   - [3]\n",
    "    World Bank Coal - [4], Commodity prices (check info sheet)\n",
    "    \n",
    "    \n",
    "    \n",
    "REFERENCES\n",
    "[1] Coal Marketing Intl ({CoalMarketingIntl})\n",
    "[2] H2 Tools ({H2Tools})\n",
    "[3] Energy Information Agency, USA ({EIA})\n",
    "[4] World Bank ({WorldBank})\n",
    "\n",
    "Also consider:\n",
    "[5] Heating values, World Nuclear Association ({WorldNuclearAssociation})\n",
    "\n",
    "\"\"\".format(**urls)\n",
    "# ----------------------------------------------------------------------- #\n",
    "setkey['HHV_table'] = \"\"\"\n",
    "    defn_short = \"HHV table, {{fuel key: MJ/kg}}\",\n",
    "    defn_full  = '''{longdefn}''',\n",
    "    dstruct = 'parameters', \n",
    "    units = 'MJ/kg',\n",
    "    filename ='Higher heating values.csv',\n",
    "    index_col=0, \n",
    "    squeeze=True,\n",
    "    more_md = {{'urls': {urls}}}\n",
    "\"\"\".format(longdefn=longdefn, urls=urls)"
   ]
  },
  {
   "cell_type": "code",
   "execution_count": 20,
   "metadata": {},
   "outputs": [],
   "source": [
    "urls = {\n",
    "    'CoalMarketingIntl': 'http://www.coalmarketinginfo.com/coal-basics/',\n",
    "    'H2Tools': 'https://h2tools.org/hyarc/calculator-tools/lower-and-higher-heating-values-fuels',\n",
    "    'EIA': 'https://www.eia.gov/totalenergy/data/monthly/pdf/historical/msw.pdf',\n",
    "    'WorldNuclearAssociation': 'https://www.world-nuclear.org/information-library/facts-and-figures/heat-values-of-various-fuels.aspx',\n",
    "    'WorldBank': 'https://www.worldbank.org/en/research/commodity-markets',\n",
    "    'MSW': 'https://www.mdpi.com/2071-1050/8/10/1044/pdf',\n",
    "}\n",
    "\n",
    "longdefn = \"\"\"Table of Lower Heating Values, in MJ/kg-wet (with moisture levels *prior* to combustion). If the source provided a range, get the middle value (both for heating val and moisture content).\n",
    "\n",
    "Data source the same as that of HHV.\n",
    "IF LHV is not specifically stated from the source, estimate the LHV via the ff. eqn:\n",
    "LHV(wet-basis) = HHV(wet-basis) - 2.44 M, where M is the moisture content (up to 1)\n",
    "*note -- this assumes that water formation is minimal, s.t. the latent heat is mostly due to the pre-existing moisture. This does not apply to e.g. natural gas.\n",
    "\n",
    "Moisture content of coal is from the Australian market source [1].\n",
    "Moisture content of wastes is from [6]\n",
    "\n",
    "REFERENCES\n",
    "[1] Coal Marketing Intl ({CoalMarketingIntl})\n",
    "[2] H2 Tools ({H2Tools})\n",
    "[3] Energy Information Agency, USA ({EIA})\n",
    "[4] World Bank ({WorldBank})\n",
    "[5] Heating values, World Nuclear Association ({WorldNuclearAssociation})\n",
    "[6] Municipal solid waste moisture content ({MSW})\n",
    "\n",
    "\"\"\".format(**urls)\n",
    "\n",
    "# ----------------------------------------------------------------------- #\n",
    "setkey['LHV_table'] = \"\"\"\n",
    "    defn_short = \"LHV table, {{fuel key: MJ/kg}}\",\n",
    "    defn_full  = '''{longdefn}''',\n",
    "    dstruct = 'parameters', \n",
    "    units = 'MJ/kg',\n",
    "    filename ='Lower heating values.csv',\n",
    "    index_col=0, \n",
    "    squeeze=True,\n",
    "    more_md = {{'urls': {urls}}}\n",
    "\"\"\".format(longdefn=longdefn, urls=urls)"
   ]
  },
  {
   "cell_type": "code",
   "execution_count": 21,
   "metadata": {},
   "outputs": [],
   "source": [
    "# Fuel density\n",
    "urls = {\n",
    "    'chevron': 'https://www.chevronmarineproducts.com/content/chevron-marine/en_UK/products/fuels-products/iso-specs-ifo/_jcr_content/par/download/file.res/Requirements_for_Residual_Fuel_2010.pdf',\n",
    "    'GNY' : 'http://www.genesisny.net/Commodity/Oil/ODefinitions.html',\n",
    "    'Wiki': 'https://en.wikipedia.org/wiki/Diesel_fuel'\n",
    "}\n",
    "\n",
    "longdefn = \"\"\"Table of fuel densities, in kg/m^3. These have to be reviewed.\n",
    "    \n",
    "    HSFO    - [1], densities defined at least 900 and the table indicates up to 1010. Get the middle.\n",
    "    Crude   - [2], assumed a medium crude oil\n",
    "    Diesel  - [3]\n",
    "    \n",
    "    \n",
    "REFERENCES\n",
    "[1] Chevron ({chevron})\n",
    "[2] GenesisNY but based on American Petroleum Industry ({GNY})\n",
    "[3] Wikipedia, Diesel fuel (consistent with other sources) ({Wiki})\n",
    "\"\"\".format(**urls)\n",
    "# ----------------------------------------------------------------------- #\n",
    "setkey['fuel_densities'] = \"\"\"\n",
    "    defn_short = \"Fuel density table, {{fuel key: kg/m^3}}\",\n",
    "    defn_full  = '''{longdefn}''',\n",
    "    dstruct = 'parameters', \n",
    "    units = 'kg/m^3',\n",
    "    filename ='Fuel densities.csv',\n",
    "    index_col=0, \n",
    "    squeeze=True,\n",
    "    more_md = {{'urls': {urls}}}\n",
    "\"\"\".format(longdefn=longdefn, urls=urls)"
   ]
  },
  {
   "cell_type": "code",
   "execution_count": 22,
   "metadata": {},
   "outputs": [],
   "source": [
    "# Cogen alternative boiler efficiencies\n",
    "setkey['cogen_alt_boiler_eff'] = \"\"\"\n",
    "    defn_short = \"Cogeneration alternative boiler efficiencies, {{fuel key: %%}}\",\n",
    "    dstruct = 'parameters', \n",
    "    units = '',\n",
    "    filename ='Cogen alternative boiler efficiencies.csv',\n",
    "    index_col=0, \n",
    "    squeeze=True,\n",
    "    more_md = {'urls': 'https://iea-etsap.org/E-TechDS/PDF/I01-ind_boilers-GS-AD-gct.pdf'}\n",
    "\"\"\""
   ]
  },
  {
   "cell_type": "markdown",
   "metadata": {},
   "source": [
    "<a id='others'></a>\n",
    "<div align=\"right\">\n",
    "<a href='#TopCell'>Back to Home</a>\n",
    "</div>\n",
    "<h3><i><font color=#117A65>Others</font></i></h3>"
   ]
  },
  {
   "cell_type": "code",
   "execution_count": 23,
   "metadata": {},
   "outputs": [],
   "source": [
    "setkey = metadata['others']"
   ]
  },
  {
   "cell_type": "markdown",
   "metadata": {},
   "source": [
    "**Waste schedule**"
   ]
  },
  {
   "cell_type": "code",
   "execution_count": 24,
   "metadata": {},
   "outputs": [],
   "source": [
    "setkey['waste_sched'] = \"\"\"\n",
    "    defn_short = \"Monthly ave load per plant\",\n",
    "    \n",
    "    defn_full  = '''Obtained from the monthly electrical output (est. from fuel mix and monthly electricity generation) \n",
    "    of the 'Others' category, and allocated to the WtE plants by capacity.''',\n",
    "    \n",
    "    dstruct = 'parameters', \n",
    "    units = 'MW',\n",
    "    filename ='WtE Monthly Ave Load.pkl',\n",
    "\"\"\""
   ]
  },
  {
   "cell_type": "markdown",
   "metadata": {},
   "source": [
    "<div align=\"right\">\n",
    "<a href='#TopCell'>Back to Home</a>\n",
    "</div>\n",
    "<h4><i><font color=#707B7C>Write metadata.ini</font></i></h4>"
   ]
  },
  {
   "cell_type": "code",
   "execution_count": 25,
   "metadata": {},
   "outputs": [
    {
     "name": "stdout",
     "output_type": "stream",
     "text": [
      "Done. Allwrite :D\n"
     ]
    }
   ],
   "source": [
    "with open(fp_md, 'w') as configfile:\n",
    "    metadata.write(configfile)\n",
    "    print(\"Done. Allwrite :D\")"
   ]
  }
 ],
 "metadata": {
  "kernelspec": {
   "display_name": "Python 3",
   "language": "python",
   "name": "python3"
  },
  "language_info": {
   "codemirror_mode": {
    "name": "ipython",
    "version": 3
   },
   "file_extension": ".py",
   "mimetype": "text/x-python",
   "name": "python",
   "nbconvert_exporter": "python",
   "pygments_lexer": "ipython3",
   "version": "3.7.4"
  }
 },
 "nbformat": 4,
 "nbformat_minor": 2
}
